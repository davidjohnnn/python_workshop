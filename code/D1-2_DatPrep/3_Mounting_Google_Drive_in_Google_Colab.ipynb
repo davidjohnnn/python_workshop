{
  "nbformat": 4,
  "nbformat_minor": 0,
  "metadata": {
    "colab": {
      "name": "Mounting Google Drive in Google Colab.ipynb",
      "provenance": [],
      "collapsed_sections": [],
      "toc_visible": true
    },
    "kernelspec": {
      "name": "python3",
      "display_name": "Python 3"
    }
  },
  "cells": [
    {
      "cell_type": "markdown",
      "metadata": {
        "id": "D0Ux1QSgZXUd",
        "colab_type": "text"
      },
      "source": [
        "# Mounting Google Drive in Google Colab"
      ]
    },
    {
      "cell_type": "code",
      "metadata": {
        "id": "5aW6ITz-ZaYN",
        "colab_type": "code",
        "colab": {
          "base_uri": "https://localhost:8080/",
          "height": 54
        },
        "outputId": "1d357961-89a5-4d18-cff2-88a34fc6f445"
      },
      "source": [
        "from google.colab import drive\n",
        "drive.mount('/content/drive')"
      ],
      "execution_count": 12,
      "outputs": [
        {
          "output_type": "stream",
          "text": [
            "Drive already mounted at /content/drive; to attempt to forcibly remount, call drive.mount(\"/content/drive\", force_remount=True).\n"
          ],
          "name": "stdout"
        }
      ]
    },
    {
      "cell_type": "code",
      "metadata": {
        "id": "wKycMzamZpXm",
        "colab_type": "code",
        "colab": {
          "base_uri": "https://localhost:8080/",
          "height": 119
        },
        "outputId": "21b60d03-bd3b-4523-a016-651cf401c34e"
      },
      "source": [
        "!ls -al"
      ],
      "execution_count": 13,
      "outputs": [
        {
          "output_type": "stream",
          "text": [
            "total 20\n",
            "drwxr-xr-x 1 root root 4096 Sep 19 02:43 .\n",
            "drwxr-xr-x 1 root root 4096 Sep 19 02:40 ..\n",
            "drwxr-xr-x 1 root root 4096 Sep 16 16:56 .config\n",
            "drwx------ 3 root root 4096 Sep 19 02:43 drive\n",
            "drwxr-xr-x 1 root root 4096 Aug 27 16:17 sample_data\n"
          ],
          "name": "stdout"
        }
      ]
    },
    {
      "cell_type": "code",
      "metadata": {
        "id": "Cw5E5mAJcMWR",
        "colab_type": "code",
        "colab": {}
      },
      "source": [
        "!cd drive/My\\ Drive/"
      ],
      "execution_count": 0,
      "outputs": []
    },
    {
      "cell_type": "code",
      "metadata": {
        "id": "JwF3zZMfcrck",
        "colab_type": "code",
        "colab": {}
      },
      "source": [
        "# StudentGrade.csv \n",
        "# Add to your google drive\n",
        "# https://drive.google.com/open?id=1_7S_pI5RWyNVSUUzUwi3wKUpCxwg-ie4"
      ],
      "execution_count": 0,
      "outputs": []
    },
    {
      "cell_type": "code",
      "metadata": {
        "id": "HorGN4feZ4o8",
        "colab_type": "code",
        "colab": {
          "base_uri": "https://localhost:8080/",
          "height": 714
        },
        "outputId": "79aa17bf-d234-41c9-b13c-17a9530bf41b"
      },
      "source": [
        "!cat /content/drive/My\\ Drive/StudentGrade.csv"
      ],
      "execution_count": 15,
      "outputs": [
        {
          "output_type": "stream",
          "text": [
            "ID,GPAX,Gender,Department,AttendScore,IsFail\r\n",
            "101,2.95,M,Multimedia,9,0\r\n",
            "102,3.6,F,Multimedia,7,1\r\n",
            "103,3.38,M,Multimedia,9.5,\r\n",
            "104,3.05,M,Multimedia,6.5,0\r\n",
            "105,,F,Multimedia,9.5,1\r\n",
            "106,3.54,F,Multimedia,9.5,0\r\n",
            "107,2.09,F,Computer,9.5,0\r\n",
            "108,3.07,M,Computer,,0\r\n",
            "109,2.87,M,Computer,9,0\r\n",
            "110,2.92,M,Computer,7.5,0\r\n",
            "111,,M,Multimedia,10.5,0\r\n",
            "112,3.14,F,Computer,11,1\r\n",
            "113,2.37,M,Multimedia,10.5,1\r\n",
            "114,3.36,F,Computer,,1\r\n",
            "115,3.54,M,Computer,9.5,0\r\n",
            "116,2.69,F,Computer,9.5,1\r\n",
            "117,3.96,F,Multimedia,10.5,0\r\n",
            "118,2.87,F,Computer,10.5,1\r\n",
            "119,2.06,M,Computer,11.5,1\r\n",
            "121,3.43,F,Multimedia,7,0\r\n",
            "122,3.56,M,Multimedia,12,0\r\n",
            "123,2.73,M,Multimedia,12,0\r\n",
            "124,2.6,F,Multimedia,,0\r\n",
            "125,2.78,F,Computer,7,1\r\n",
            "126,3.45,F,Computer,,0\r\n",
            "127,2.9,M,Computer,10.5,1\r\n",
            "128,2.54,F,Computer,11,0\r\n",
            "131,2.88,F,Multimedia,10.5,1\r\n",
            "132,3.01,M,Multimedia,8.5,0\r\n",
            "133,,F,Multimedia,11,0\r\n",
            "134,2.01,F,Computer,8,1\r\n",
            "135,2.85,F,Multimedia,,0\r\n",
            "136,3.01,M,Multimedia,10.5,\r\n",
            "137,2.15,M,Multimedia,8.5,1\r\n",
            "138,2,M,Multimedia,7,\r\n",
            "139,3.98,F,Multimedia,12,0\r\n",
            "140,2.44,M,Multimedia,9.5,1\r\n",
            "141,3.27,M,Computer,9.5,0\r\n",
            "142,3.95,M,Multimedia,11.5,0\r\n",
            "143,2.03,M,Computer,11,1"
          ],
          "name": "stdout"
        }
      ]
    },
    {
      "cell_type": "code",
      "metadata": {
        "id": "0XotUwKtaHGQ",
        "colab_type": "code",
        "colab": {}
      },
      "source": [
        "import pandas as pd"
      ],
      "execution_count": 0,
      "outputs": []
    },
    {
      "cell_type": "code",
      "metadata": {
        "id": "9sMs5lpRbLG9",
        "colab_type": "code",
        "colab": {}
      },
      "source": [
        "df = pd.read_csv(\"/content/drive/My Drive/StudentGrade.csv\")"
      ],
      "execution_count": 0,
      "outputs": []
    },
    {
      "cell_type": "code",
      "metadata": {
        "id": "oEhrOEl9bSoP",
        "colab_type": "code",
        "colab": {
          "base_uri": "https://localhost:8080/",
          "height": 80
        },
        "outputId": "79d7e0d8-1192-4d11-b945-6c1657fcdc5a"
      },
      "source": [
        "df.sample()"
      ],
      "execution_count": 32,
      "outputs": [
        {
          "output_type": "execute_result",
          "data": {
            "text/html": [
              "<div>\n",
              "<style scoped>\n",
              "    .dataframe tbody tr th:only-of-type {\n",
              "        vertical-align: middle;\n",
              "    }\n",
              "\n",
              "    .dataframe tbody tr th {\n",
              "        vertical-align: top;\n",
              "    }\n",
              "\n",
              "    .dataframe thead th {\n",
              "        text-align: right;\n",
              "    }\n",
              "</style>\n",
              "<table border=\"1\" class=\"dataframe\">\n",
              "  <thead>\n",
              "    <tr style=\"text-align: right;\">\n",
              "      <th></th>\n",
              "      <th>ID</th>\n",
              "      <th>GPAX</th>\n",
              "      <th>Gender</th>\n",
              "      <th>Department</th>\n",
              "      <th>AttendScore</th>\n",
              "      <th>IsFail</th>\n",
              "    </tr>\n",
              "  </thead>\n",
              "  <tbody>\n",
              "    <tr>\n",
              "      <th>0</th>\n",
              "      <td>101</td>\n",
              "      <td>2.95</td>\n",
              "      <td>M</td>\n",
              "      <td>Multimedia</td>\n",
              "      <td>9.0</td>\n",
              "      <td>0.0</td>\n",
              "    </tr>\n",
              "  </tbody>\n",
              "</table>\n",
              "</div>"
            ],
            "text/plain": [
              "    ID  GPAX Gender  Department  AttendScore  IsFail\n",
              "0  101  2.95      M  Multimedia          9.0     0.0"
            ]
          },
          "metadata": {
            "tags": []
          },
          "execution_count": 32
        }
      ]
    },
    {
      "cell_type": "code",
      "metadata": {
        "id": "UH1neSrucnlX",
        "colab_type": "code",
        "colab": {
          "base_uri": "https://localhost:8080/",
          "height": 714
        },
        "outputId": "df24b96b-37aa-4b4e-c7c9-c1c1f503c130"
      },
      "source": [
        "df['AttendScore'] = df['AttendScore'].fillna(value=df['AttendScore'].mean())\n"
      ],
      "execution_count": 29,
      "outputs": [
        {
          "output_type": "execute_result",
          "data": {
            "text/plain": [
              "0      9.000000\n",
              "1      7.000000\n",
              "2      9.500000\n",
              "3      6.500000\n",
              "4      9.500000\n",
              "5      9.500000\n",
              "6      9.500000\n",
              "7      9.642857\n",
              "8      9.000000\n",
              "9      7.500000\n",
              "10    10.500000\n",
              "11    11.000000\n",
              "12    10.500000\n",
              "13     9.642857\n",
              "14     9.500000\n",
              "15     9.500000\n",
              "16    10.500000\n",
              "17    10.500000\n",
              "18    11.500000\n",
              "19     7.000000\n",
              "20    12.000000\n",
              "21    12.000000\n",
              "22     9.642857\n",
              "23     7.000000\n",
              "24     9.642857\n",
              "25    10.500000\n",
              "26    11.000000\n",
              "27    10.500000\n",
              "28     8.500000\n",
              "29    11.000000\n",
              "30     8.000000\n",
              "31     9.642857\n",
              "32    10.500000\n",
              "33     8.500000\n",
              "34     7.000000\n",
              "35    12.000000\n",
              "36     9.500000\n",
              "37     9.500000\n",
              "38    11.500000\n",
              "39    11.000000\n",
              "Name: AttendScore, dtype: float64"
            ]
          },
          "metadata": {
            "tags": []
          },
          "execution_count": 29
        }
      ]
    },
    {
      "cell_type": "code",
      "metadata": {
        "id": "YU540BL2e07y",
        "colab_type": "code",
        "colab": {
          "base_uri": "https://localhost:8080/",
          "height": 286
        },
        "outputId": "dd581480-0fba-491a-89a6-46f121203ea8"
      },
      "source": [
        "df['AttendScore'].hist()"
      ],
      "execution_count": 30,
      "outputs": [
        {
          "output_type": "execute_result",
          "data": {
            "text/plain": [
              "<matplotlib.axes._subplots.AxesSubplot at 0x7f0c35a17518>"
            ]
          },
          "metadata": {
            "tags": []
          },
          "execution_count": 30
        },
        {
          "output_type": "display_data",
          "data": {
            "image/png": "[encoded data removed]",
            "text/plain": [
              "<Figure size 432x288 with 1 Axes>"
            ]
          },
          "metadata": {
            "tags": []
          }
        }
      ]
    },
    {
      "cell_type": "code",
      "metadata": {
        "id": "Jn5SgYuofEBs",
        "colab_type": "code",
        "colab": {
          "base_uri": "https://localhost:8080/",
          "height": 309
        },
        "outputId": "d720f951-932f-4f09-a7de-21241691f6a1"
      },
      "source": [
        "df.plot(kind='bar',x='ID',y='AttendScore')"
      ],
      "execution_count": 31,
      "outputs": [
        {
          "output_type": "execute_result",
          "data": {
            "text/plain": [
              "<matplotlib.axes._subplots.AxesSubplot at 0x7f0c35851198>"
            ]
          },
          "metadata": {
            "tags": []
          },
          "execution_count": 31
        },
        {
          "output_type": "display_data",
          "data": {
            "image/png": "[encoded data removed]",
            "text/plain": [
              "<Figure size 432x288 with 1 Axes>"
            ]
          },
          "metadata": {
            "tags": []
          }
        }
      ]
    },
    {
      "cell_type": "code",
      "metadata": {
        "id": "DyQN0Rl5fSTx",
        "colab_type": "code",
        "colab": {
          "base_uri": "https://localhost:8080/",
          "height": 309
        },
        "outputId": "6a7049ff-4591-44c3-f538-ed964af5c518"
      },
      "source": [
        "df.plot(kind='bar',x='ID',y='GPAX')"
      ],
      "execution_count": 33,
      "outputs": [
        {
          "output_type": "execute_result",
          "data": {
            "text/plain": [
              "<matplotlib.axes._subplots.AxesSubplot at 0x7f0c358d3518>"
            ]
          },
          "metadata": {
            "tags": []
          },
          "execution_count": 33
        },
        {
          "output_type": "display_data",
          "data": {
            "image/png": "[encoded data removed]",
            "text/plain": [
              "<Figure size 432x288 with 1 Axes>"
            ]
          },
          "metadata": {
            "tags": []
          }
        }
      ]
    },
    {
      "cell_type": "code",
      "metadata": {
        "id": "nx_r1E9FfZLz",
        "colab_type": "code",
        "colab": {}
      },
      "source": [
        ""
      ],
      "execution_count": 0,
      "outputs": []
    }
  ]
}